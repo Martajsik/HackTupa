{
 "cells": [
  {
   "cell_type": "code",
   "execution_count": 67,
   "metadata": {},
   "outputs": [
    {
     "name": "stdout",
     "output_type": "stream",
     "text": [
      "[nltk_data] Downloading package stopwords to\n",
      "[nltk_data]     C:\\Users\\Rodrigo\\AppData\\Roaming\\nltk_data...\n",
      "[nltk_data]   Package stopwords is already up-to-date!\n"
     ]
    }
   ],
   "source": [
    "#pacotes microfone\n",
    "import speech_recognition as sr\n",
    "from gtts import gTTS\n",
    "from playsound import playsound\n",
    "from textblob import TextBlob\n",
    "import pyaudio\n",
    "#pacotes tratamento de dados\n",
    "import pandas as pd\n",
    "import numpy as np\n",
    "from collections import OrderedDict\n",
    "import sys\n",
    "import nltk\n",
    "nltk.download('stopwords')\n",
    "from unidecode import unidecode"
   ]
  },
  {
   "cell_type": "markdown",
   "metadata": {},
   "source": [
    "TRANSCRIÇÃO DE ÁUDIO"
   ]
  },
  {
   "cell_type": "code",
   "execution_count": 68,
   "metadata": {},
   "outputs": [],
   "source": [
    "#Funcao responsavel por ouvir e reconhecer a fala\n",
    "def ouvir_microfone():\n",
    "\t#Habilita o microfone para ouvir o usuario\n",
    "\tmicrofone = sr.Recognizer()\n",
    "\twith sr.Microphone() as source:\n",
    "\t\t#Chama a funcao de reducao de ruido disponivel na speech_recognition\n",
    "\t\tmicrofone.adjust_for_ambient_noise(source)\n",
    "\t\t#Avisa ao usuario que esta pronto para ouvir\n",
    "\t\tprint(\"GRAVANDO,para sair diga fechar\")\n",
    "\t\t#Armazena a informacao de audio na variavel\n",
    "\t\taudio = microfone.listen(source)\n",
    "\ttry:\n",
    "\t\t#Passa o audio para o reconhecedor de padroes do speech_recognition\n",
    "\t\tfrase = microfone.recognize_google(audio,language='pt-BR')\n",
    "\t\t#Após alguns segundos, retorna a frase falada\n",
    "\t\tprint(\"TRANSCRIÇÃO: \" + frase)\n",
    "\n",
    "\t\t#Caso nao tenha reconhecido o padrao de fala, exibe esta mensagem\n",
    "\texcept:\n",
    "\t\tfrase='NÃO FOI POSSIVEL REALIZAR A TRANSCRIÇÃO AGUARDE ALGUNS MINUTOS'\n",
    "\t\tpass\n",
    "\treturn frase"
   ]
  },
  {
   "cell_type": "code",
   "execution_count": 69,
   "metadata": {},
   "outputs": [
    {
     "name": "stdout",
     "output_type": "stream",
     "text": [
      "GRAVANDO,para sair diga fechar\n",
      "TRANSCRIÇÃO: Olá meu nome é Pedro Ribeiro Fidelis estudo na PUC estou no Rio desenvolvendo um projeto da hora\n"
     ]
    },
    {
     "ename": "NameError",
     "evalue": "name 'bot' is not defined",
     "output_type": "error",
     "traceback": [
      "\u001b[1;31m---------------------------------------------------------------------------\u001b[0m",
      "\u001b[1;31mNameError\u001b[0m                                 Traceback (most recent call last)",
      "\u001b[1;32m<ipython-input-69-7c65fef3ee5a>\u001b[0m in \u001b[0;36m<module>\u001b[1;34m()\u001b[0m\n\u001b[0;32m      1\u001b[0m \u001b[1;32mwhile\u001b[0m \u001b[1;32mTrue\u001b[0m\u001b[1;33m:\u001b[0m\u001b[1;33m\u001b[0m\u001b[0m\n\u001b[0;32m      2\u001b[0m         \u001b[0mpergunta\u001b[0m \u001b[1;33m=\u001b[0m \u001b[0mouvir_microfone\u001b[0m\u001b[1;33m(\u001b[0m\u001b[1;33m)\u001b[0m\u001b[1;33m\u001b[0m\u001b[0m\n\u001b[1;32m----> 3\u001b[1;33m         \u001b[0mresposta\u001b[0m \u001b[1;33m=\u001b[0m \u001b[0mbot\u001b[0m\u001b[1;33m.\u001b[0m\u001b[0mget_response\u001b[0m\u001b[1;33m(\u001b[0m\u001b[0mpergunta\u001b[0m\u001b[1;33m)\u001b[0m\u001b[1;33m\u001b[0m\u001b[0m\n\u001b[0m\u001b[0;32m      4\u001b[0m    \u001b[1;31m# testa se o usuário quer encerrar a conversação\u001b[0m\u001b[1;33m\u001b[0m\u001b[1;33m\u001b[0m\u001b[0m\n\u001b[0;32m      5\u001b[0m         \u001b[1;32mif\u001b[0m \u001b[0mpergunta\u001b[0m\u001b[1;33m.\u001b[0m\u001b[0mreplace\u001b[0m\u001b[1;33m(\u001b[0m\u001b[1;34m''\u001b[0m\u001b[1;33m,\u001b[0m \u001b[1;34m''\u001b[0m\u001b[1;33m)\u001b[0m \u001b[1;33m==\u001b[0m \u001b[1;34m'fechar'\u001b[0m\u001b[1;33m:\u001b[0m\u001b[1;33m\u001b[0m\u001b[0m\n",
      "\u001b[1;31mNameError\u001b[0m: name 'bot' is not defined"
     ]
    }
   ],
   "source": [
    "while True:\n",
    "        pergunta = ouvir_microfone()\n",
    "        resposta = bot.get_response(pergunta)\n",
    "   # testa se o usuário quer encerrar a conversação\n",
    "        if pergunta.replace('', '') == 'fechar':\n",
    "            print('Até mais,obrigado pela atenção!')\n",
    "            break # sai do loop"
   ]
  },
  {
   "cell_type": "markdown",
   "metadata": {},
   "source": [
    "BUSCA DE INFORMAÇÕES DO TEXTO TRANSCRITO"
   ]
  },
  {
   "cell_type": "code",
   "execution_count": 70,
   "metadata": {},
   "outputs": [],
   "source": [
    "texto= \"CORRETOR - Olá, tudo bem ? CLIENTE - tudo bem, como vai ? CORRETOR - Voce mora por aqui ? CLIENTE - Moro sim CORRETOR - Bacana, bairro aqui é bom né..mora aqui a muito tempo ? CLIENTE - Ou, moro sim, a 20 anos CORRETOR - desculpa, não te perguntei seu nome ? CLIENTE - meu nome é Ricardo, e o seu ? CORRETOR - 20 anos ?! que isso cara, voce parece jovem CORRETOR - quantos anos você tem ? ClIENTE - vou fazer 30 anos CORRETOR - Entendi, daqui a pouco ta aposentando ja, ja parou pra pensar na aposentadoria CLIENTE - Nada, ta longe ainda CORRETOR- Com quantos anos pretende se aposentar ? CLIENTE - ah com uns 65 anos CORRETOR - Falta 35 anos ainda então, mas passa rápido viu CORRETOR - Ja tem ideia de quanto quer receber na aposentadoria CLIENTE - A cara, pelo menos uns 3.000 reais CORRETOR - Ah sim, bacana, ai da pra ficar bem CORRETOR - Ou, mas atualmente seu imposto de renda é simplificado ou completo ? CLIENTE - simplificado - ai e bom CLIENTE - Por que CORRETOR - acaba sendo melhor CORRETOR  - ainda mais se tiver investimentos CLIENTE - Isso eu não tenho.corretor: qual a sua profissão? cliente sou pedreiro\""
   ]
  },
  {
   "cell_type": "code",
   "execution_count": 71,
   "metadata": {},
   "outputs": [],
   "source": [
    "texto=unidecode(texto)\n",
    "texto= texto.lower()\n",
    "tokens = nltk.word_tokenize(texto)\n"
   ]
  },
  {
   "cell_type": "code",
   "execution_count": 72,
   "metadata": {
    "scrolled": false
   },
   "outputs": [],
   "source": [
    "from nltk.tokenize import sent_tokenize,word_tokenize\n",
    "from nltk.corpus import stopwords \n",
    "#Criarbanco com palavras inuteis\n",
    "stopwords = nltk.corpus.stopwords.words('portuguese')\n",
    "x= ['sim','ou','moro','voce','ola','bacana','pra','?','-','bem','tempo','seu',\n",
    "    'mora','nao','ta','ja','entao','ai','cara','tudo','parece','ainda',',','.','uns','ideia','pretende','pouco',\n",
    "   'aqui','nada','passa','parou','vai','daqui','quer','longe','menos','mais','falta','longe','atualmente','ha',\n",
    "    'jovem','ah','atualmente','entendi','acaba','bom','bairro','ne..mora','viu','!','.','ficar']\n",
    "\n",
    "\n",
    "for i in range(len(x)):\n",
    "    stopwords.append(x[i])\n",
    "    \n",
    "words= word_tokenize(texto)\n",
    "wordsFiltered =[]\n",
    "\n",
    "for w in words:\n",
    "    if w not in  stopwords:\n",
    "        wordsFiltered.append(w)\n",
    "\n"
   ]
  },
  {
   "cell_type": "markdown",
   "metadata": {},
   "source": [
    "\n"
   ]
  },
  {
   "cell_type": "code",
   "execution_count": 73,
   "metadata": {
    "scrolled": true
   },
   "outputs": [],
   "source": [
    "tagged = nltk.pos_tag(wordsFiltered)"
   ]
  },
  {
   "cell_type": "code",
   "execution_count": 74,
   "metadata": {
    "scrolled": true
   },
   "outputs": [],
   "source": [
    "x=0\n",
    "a=[]\n",
    "b=[]\n",
    "Num=[]\n",
    "Num2=[]\n",
    "for x in range (len(tagged)):\n",
    "    if tagged[x][1] == \"CD\":\n",
    "        Num.append(tagged[x][0])\n",
    "        a.append(int(x))\n",
    "    else:\n",
    "        Num2.append(tagged[x][0])\n",
    "        b.append(int(x))"
   ]
  },
  {
   "cell_type": "code",
   "execution_count": null,
   "metadata": {},
   "outputs": [],
   "source": []
  },
  {
   "cell_type": "code",
   "execution_count": 75,
   "metadata": {},
   "outputs": [],
   "source": [
    "import pandas as pd\n",
    "vet=[]\n",
    "sex=[]\n",
    "dados= pd.read_csv('nome.csv', sep=',')\n",
    "nomes=dados.loc[1:,\"first_name\"]\n",
    "vetor = nomes.values.tolist ()\n",
    "for i in range(len(vetor)):\n",
    "    vet.append(vetor[i].lower())\n",
    "    \n",
    "sexo=dados.loc[1:,\"classification\"]\n",
    "sexo = sexo.values.tolist ()\n",
    "for i in range(len(sexo)):\n",
    "    sex.append(sexo[i].lower())"
   ]
  },
  {
   "cell_type": "code",
   "execution_count": 76,
   "metadata": {},
   "outputs": [],
   "source": [
    "for i in range(len(vet)):\n",
    "    for j in range(len(wordsFiltered)):\n",
    "        if vet[i]==wordsFiltered[j]:\n",
    "            NOME=vet[i]\n",
    "            SEXO=sex[i]\n",
    "        else:\n",
    "            continue\n",
    "\n",
    "if SEXO==\"m\":\n",
    "    SEXO=\"masculino\"\n",
    "else:\n",
    "    SEXO=\"feminino\""
   ]
  },
  {
   "cell_type": "code",
   "execution_count": null,
   "metadata": {},
   "outputs": [],
   "source": []
  },
  {
   "cell_type": "code",
   "execution_count": 77,
   "metadata": {},
   "outputs": [],
   "source": [
    "Idade = ['qual','tem','idade','com','estou','fazer']\n",
    "Aposentadoria= ['aposentar','tempo']\n",
    "valorApo= ['receber','valor','precisar','precisaria','receber']\n"
   ]
  },
  {
   "cell_type": "code",
   "execution_count": 78,
   "metadata": {},
   "outputs": [],
   "source": [
    "g=[a[0],a[1],a[2],a[3],a[4],a[5]]\n",
    "f=[0,a[0],a[1],a[2],a[3],a[4]]\n",
    "info1=[]\n",
    "info2=[]\n",
    "info4=[]\n",
    "v1=0\n",
    "v2=0\n",
    "v4=0\n",
    "d=0\n",
    "p=0\n",
    "for apa in range(len(a)):\n",
    "    d= f[apa]\n",
    "    p= g[apa]\n",
    "    for k in range(d,p,1):   \n",
    "        for l in range(len(Idade)):\n",
    "            if Idade[l]==wordsFiltered[k]:\n",
    "                info1.append(\"IDADE\")\n",
    "                v1=Num[apa]\n",
    "            else:\n",
    "                continue\n",
    "    for k in range(d,p,1):   \n",
    "        for l in range(len(Aposentadoria)):\n",
    "            if Aposentadoria[l]==wordsFiltered[k]:\n",
    "                info2.append(\"Aposentadoria\")\n",
    "                v2=Num[apa]\n",
    "            else:\n",
    "                continue\n",
    "                \n",
    "    for k in range(d,p,1):   \n",
    "        for l in range(len(valorApo)):\n",
    "            if valorApo[l]==wordsFiltered[k]:\n",
    "                info4.append(\"valorApo\") \n",
    "                v4=Num[apa]\n",
    "            else:\n",
    "                continue                       \n",
    "    "
   ]
  },
  {
   "cell_type": "code",
   "execution_count": 79,
   "metadata": {},
   "outputs": [],
   "source": [
    "profi= pd.read_excel('Grupo Dit.xlsx')\n",
    "profi=profi.loc[1:,\"Titulo\"]\n"
   ]
  },
  {
   "cell_type": "code",
   "execution_count": 80,
   "metadata": {},
   "outputs": [],
   "source": [
    "PROF=[]\n",
    "profi = profi.values.tolist()\n",
    "for i in range(len(profi)):\n",
    "    PROF.append(profi[i].lower())\n",
    "    "
   ]
  },
  {
   "cell_type": "code",
   "execution_count": 81,
   "metadata": {},
   "outputs": [],
   "source": [
    "PROFISSAO=[]\n",
    "for j in range(len(PROF)):\n",
    "    for o in range(len(wordsFiltered)):\n",
    "        if PROF[j]==wordsFiltered[o]:\n",
    "            PROFISSAO.append(wordsFiltered[o])\n",
    "        else:\n",
    "            continue"
   ]
  },
  {
   "cell_type": "code",
   "execution_count": 82,
   "metadata": {},
   "outputs": [
    {
     "data": {
      "text/plain": [
       "'3.000'"
      ]
     },
     "execution_count": 82,
     "metadata": {},
     "output_type": "execute_result"
    }
   ],
   "source": [
    "VALORAPOSENTADORIA=v4\n",
    "VALORAPOSENTADORIA\n"
   ]
  },
  {
   "cell_type": "code",
   "execution_count": 83,
   "metadata": {},
   "outputs": [
    {
     "data": {
      "text/plain": [
       "'65'"
      ]
     },
     "execution_count": 83,
     "metadata": {},
     "output_type": "execute_result"
    }
   ],
   "source": [
    "ANOSAPOSENTAR=v2\n",
    "v2"
   ]
  },
  {
   "cell_type": "code",
   "execution_count": 84,
   "metadata": {},
   "outputs": [
    {
     "data": {
      "text/plain": [
       "'30'"
      ]
     },
     "execution_count": 84,
     "metadata": {},
     "output_type": "execute_result"
    }
   ],
   "source": [
    "IDADE=v1\n",
    "IDADE"
   ]
  },
  {
   "cell_type": "code",
   "execution_count": 85,
   "metadata": {},
   "outputs": [
    {
     "data": {
      "text/plain": [
       "'masculino'"
      ]
     },
     "execution_count": 85,
     "metadata": {},
     "output_type": "execute_result"
    }
   ],
   "source": [
    "SEXO"
   ]
  },
  {
   "cell_type": "code",
   "execution_count": 86,
   "metadata": {},
   "outputs": [
    {
     "data": {
      "text/plain": [
       "'ricardo'"
      ]
     },
     "execution_count": 86,
     "metadata": {},
     "output_type": "execute_result"
    }
   ],
   "source": [
    "NOME"
   ]
  },
  {
   "cell_type": "code",
   "execution_count": 87,
   "metadata": {},
   "outputs": [
    {
     "data": {
      "text/plain": [
       "['pedreiro']"
      ]
     },
     "execution_count": 87,
     "metadata": {},
     "output_type": "execute_result"
    }
   ],
   "source": [
    "PROFISSAO"
   ]
  },
  {
   "cell_type": "code",
   "execution_count": null,
   "metadata": {},
   "outputs": [],
   "source": []
  },
  {
   "cell_type": "code",
   "execution_count": null,
   "metadata": {},
   "outputs": [],
   "source": []
  },
  {
   "cell_type": "code",
   "execution_count": null,
   "metadata": {},
   "outputs": [],
   "source": []
  }
 ],
 "metadata": {
  "kernelspec": {
   "display_name": "Python 3",
   "language": "python",
   "name": "python3"
  },
  "language_info": {
   "codemirror_mode": {
    "name": "ipython",
    "version": 3
   },
   "file_extension": ".py",
   "mimetype": "text/x-python",
   "name": "python",
   "nbconvert_exporter": "python",
   "pygments_lexer": "ipython3",
   "version": "3.6.5"
  }
 },
 "nbformat": 4,
 "nbformat_minor": 2
}
